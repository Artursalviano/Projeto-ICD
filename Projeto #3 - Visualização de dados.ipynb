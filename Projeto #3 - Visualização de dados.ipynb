{
 "cells": [
  {
   "cell_type": "code",
   "execution_count": 158,
   "metadata": {
    "scrolled": true
   },
   "outputs": [
    {
     "data": {
      "text/html": [
       "<div>\n",
       "<style scoped>\n",
       "    .dataframe tbody tr th:only-of-type {\n",
       "        vertical-align: middle;\n",
       "    }\n",
       "\n",
       "    .dataframe tbody tr th {\n",
       "        vertical-align: top;\n",
       "    }\n",
       "\n",
       "    .dataframe thead th {\n",
       "        text-align: right;\n",
       "    }\n",
       "</style>\n",
       "<table border=\"1\" class=\"dataframe\">\n",
       "  <thead>\n",
       "    <tr style=\"text-align: right;\">\n",
       "      <th></th>\n",
       "      <th>Candidato</th>\n",
       "      <th>Setorial</th>\n",
       "      <th>Estado</th>\n",
       "      <th>Situação</th>\n",
       "      <th>Votos</th>\n",
       "    </tr>\n",
       "  </thead>\n",
       "  <tbody>\n",
       "    <tr>\n",
       "      <th>0</th>\n",
       "      <td>ANA CAROLINA REGIS BARRA (Ana Carolina Regis B...</td>\n",
       "      <td>Arquitetura e Urbanismo</td>\n",
       "      <td>PA</td>\n",
       "      <td>Eleito</td>\n",
       "      <td>1</td>\n",
       "    </tr>\n",
       "    <tr>\n",
       "      <th>1</th>\n",
       "      <td>ANA LUCIA DE CASTRO AVILA SANTOS (Ana Lucia de...</td>\n",
       "      <td>Arquitetura e Urbanismo</td>\n",
       "      <td>MT</td>\n",
       "      <td>Inabilitado</td>\n",
       "      <td>66</td>\n",
       "    </tr>\n",
       "    <tr>\n",
       "      <th>2</th>\n",
       "      <td>ANA VERUSKA DE MATOS (Ana Veruska de Matos)</td>\n",
       "      <td>Arquitetura e Urbanismo</td>\n",
       "      <td>MT</td>\n",
       "      <td>Eleito</td>\n",
       "      <td>10</td>\n",
       "    </tr>\n",
       "    <tr>\n",
       "      <th>3</th>\n",
       "      <td>ANNA KARLA DE ALMEIDA SANTOS (ANNA KARLA DE AL...</td>\n",
       "      <td>Arquitetura e Urbanismo</td>\n",
       "      <td>MA</td>\n",
       "      <td>Eleito</td>\n",
       "      <td>28</td>\n",
       "    </tr>\n",
       "    <tr>\n",
       "      <th>4</th>\n",
       "      <td>ANTONIO JOSE DE MEDEIROS SOARES (Antonio Soares)</td>\n",
       "      <td>Arquitetura e Urbanismo</td>\n",
       "      <td>PE</td>\n",
       "      <td>Eleito</td>\n",
       "      <td>51</td>\n",
       "    </tr>\n",
       "    <tr>\n",
       "      <th>...</th>\n",
       "      <td>...</td>\n",
       "      <td>...</td>\n",
       "      <td>...</td>\n",
       "      <td>...</td>\n",
       "      <td>...</td>\n",
       "    </tr>\n",
       "    <tr>\n",
       "      <th>1502</th>\n",
       "      <td>WECSLEY DA CUNHA NEPOMUCENO (Wecsley da Cunha ...</td>\n",
       "      <td>Teatro</td>\n",
       "      <td>RN</td>\n",
       "      <td>Habilitado</td>\n",
       "      <td>9</td>\n",
       "    </tr>\n",
       "    <tr>\n",
       "      <th>1503</th>\n",
       "      <td>WELLINGTON DA SILVA ANTONIO (WELLINGTON DA SIL...</td>\n",
       "      <td>Teatro</td>\n",
       "      <td>CE</td>\n",
       "      <td>Eleito</td>\n",
       "      <td>22</td>\n",
       "    </tr>\n",
       "    <tr>\n",
       "      <th>1504</th>\n",
       "      <td>WILISMAR ARAUJO DA SILVA (wilis araújo)</td>\n",
       "      <td>Teatro</td>\n",
       "      <td>DF</td>\n",
       "      <td>Habilitado</td>\n",
       "      <td>6</td>\n",
       "    </tr>\n",
       "    <tr>\n",
       "      <th>1505</th>\n",
       "      <td>YGOR FIORI (Ygor Fiori)</td>\n",
       "      <td>Teatro</td>\n",
       "      <td>SP</td>\n",
       "      <td>Habilitado</td>\n",
       "      <td>35</td>\n",
       "    </tr>\n",
       "    <tr>\n",
       "      <th>1506</th>\n",
       "      <td>ZEUDIMAR BARBOSA DE SOUZA (Zeudi Souza)</td>\n",
       "      <td>Teatro</td>\n",
       "      <td>AM</td>\n",
       "      <td>Habilitado</td>\n",
       "      <td>7</td>\n",
       "    </tr>\n",
       "  </tbody>\n",
       "</table>\n",
       "<p>1507 rows × 5 columns</p>\n",
       "</div>"
      ],
      "text/plain": [
       "                                              Candidato  \\\n",
       "0     ANA CAROLINA REGIS BARRA (Ana Carolina Regis B...   \n",
       "1     ANA LUCIA DE CASTRO AVILA SANTOS (Ana Lucia de...   \n",
       "2          ANA VERUSKA DE MATOS (Ana Veruska de Matos)    \n",
       "3     ANNA KARLA DE ALMEIDA SANTOS (ANNA KARLA DE AL...   \n",
       "4     ANTONIO JOSE DE MEDEIROS SOARES (Antonio Soares)    \n",
       "...                                                 ...   \n",
       "1502  WECSLEY DA CUNHA NEPOMUCENO (Wecsley da Cunha ...   \n",
       "1503  WELLINGTON DA SILVA ANTONIO (WELLINGTON DA SIL...   \n",
       "1504           WILISMAR ARAUJO DA SILVA (wilis araújo)    \n",
       "1505                           YGOR FIORI (Ygor Fiori)    \n",
       "1506           ZEUDIMAR BARBOSA DE SOUZA (Zeudi Souza)    \n",
       "\n",
       "                      Setorial Estado      Situação  Votos  \n",
       "0     Arquitetura e Urbanismo     PA        Eleito       1  \n",
       "1     Arquitetura e Urbanismo     MT   Inabilitado      66  \n",
       "2     Arquitetura e Urbanismo     MT        Eleito      10  \n",
       "3     Arquitetura e Urbanismo     MA        Eleito      28  \n",
       "4     Arquitetura e Urbanismo     PE        Eleito      51  \n",
       "...                        ...    ...           ...    ...  \n",
       "1502                   Teatro     RN    Habilitado       9  \n",
       "1503                   Teatro     CE        Eleito      22  \n",
       "1504                   Teatro     DF    Habilitado       6  \n",
       "1505                   Teatro     SP    Habilitado      35  \n",
       "1506                   Teatro     AM    Habilitado       7  \n",
       "\n",
       "[1507 rows x 5 columns]"
      ]
     },
     "execution_count": 158,
     "metadata": {},
     "output_type": "execute_result"
    }
   ],
   "source": [
    "import pandas as pd\n",
    "import numpy as np\n",
    "import seaborn as sns\n",
    "\n",
    "DF_CNPC = pd.read_csv('resultado-cnpc-2015.csv')\n",
    "DF_CNPC"
   ]
  },
  {
   "cell_type": "code",
   "execution_count": 213,
   "metadata": {},
   "outputs": [
    {
     "data": {
      "text/plain": [
       "0       PA \n",
       "1       MT \n",
       "2       MT \n",
       "3       MA \n",
       "4       PE \n",
       "       ... \n",
       "1502    RN \n",
       "1503    CE \n",
       "1504    DF \n",
       "1505    SP \n",
       "1506    AM \n",
       "Name: Estado, Length: 1507, dtype: object"
      ]
     },
     "execution_count": 213,
     "metadata": {},
     "output_type": "execute_result"
    }
   ],
   "source": [
    "DF_CNPC['Estado']"
   ]
  },
  {
   "cell_type": "markdown",
   "metadata": {},
   "source": [
    "### Plot do histograma"
   ]
  },
  {
   "cell_type": "code",
   "execution_count": 159,
   "metadata": {
    "scrolled": true
   },
   "outputs": [
    {
     "data": {
      "text/plain": [
       "<seaborn.axisgrid.FacetGrid at 0x1e11df59190>"
      ]
     },
     "execution_count": 159,
     "metadata": {},
     "output_type": "execute_result"
    },
    {
     "data": {
      "image/png": "[encoded data removed]",
      "text/plain": [
       "<Figure size 360x360 with 1 Axes>"
      ]
     },
     "metadata": {
      "needs_background": "light"
     },
     "output_type": "display_data"
    }
   ],
   "source": [
    "sns.displot(DF_CNPC, x=\"Votos\")"
   ]
  },
  {
   "cell_type": "markdown",
   "metadata": {},
   "source": [
    "### Retirando os Votos iguais a zero do dataframe"
   ]
  },
  {
   "cell_type": "code",
   "execution_count": 188,
   "metadata": {},
   "outputs": [
    {
     "data": {
      "text/html": [
       "<div>\n",
       "<style scoped>\n",
       "    .dataframe tbody tr th:only-of-type {\n",
       "        vertical-align: middle;\n",
       "    }\n",
       "\n",
       "    .dataframe tbody tr th {\n",
       "        vertical-align: top;\n",
       "    }\n",
       "\n",
       "    .dataframe thead th {\n",
       "        text-align: right;\n",
       "    }\n",
       "</style>\n",
       "<table border=\"1\" class=\"dataframe\">\n",
       "  <thead>\n",
       "    <tr style=\"text-align: right;\">\n",
       "      <th></th>\n",
       "      <th>Candidato</th>\n",
       "      <th>Setorial</th>\n",
       "      <th>Estado</th>\n",
       "      <th>Situação</th>\n",
       "      <th>Votos</th>\n",
       "    </tr>\n",
       "  </thead>\n",
       "  <tbody>\n",
       "    <tr>\n",
       "      <th>0</th>\n",
       "      <td>ANA CAROLINA REGIS BARRA (Ana Carolina Regis B...</td>\n",
       "      <td>Arquitetura e Urbanismo</td>\n",
       "      <td>PA</td>\n",
       "      <td>Eleito</td>\n",
       "      <td>1</td>\n",
       "    </tr>\n",
       "    <tr>\n",
       "      <th>1</th>\n",
       "      <td>ANA LUCIA DE CASTRO AVILA SANTOS (Ana Lucia de...</td>\n",
       "      <td>Arquitetura e Urbanismo</td>\n",
       "      <td>MT</td>\n",
       "      <td>Inabilitado</td>\n",
       "      <td>66</td>\n",
       "    </tr>\n",
       "    <tr>\n",
       "      <th>2</th>\n",
       "      <td>ANA VERUSKA DE MATOS (Ana Veruska de Matos)</td>\n",
       "      <td>Arquitetura e Urbanismo</td>\n",
       "      <td>MT</td>\n",
       "      <td>Eleito</td>\n",
       "      <td>10</td>\n",
       "    </tr>\n",
       "    <tr>\n",
       "      <th>3</th>\n",
       "      <td>ANNA KARLA DE ALMEIDA SANTOS (ANNA KARLA DE AL...</td>\n",
       "      <td>Arquitetura e Urbanismo</td>\n",
       "      <td>MA</td>\n",
       "      <td>Eleito</td>\n",
       "      <td>28</td>\n",
       "    </tr>\n",
       "    <tr>\n",
       "      <th>4</th>\n",
       "      <td>ANTONIO JOSE DE MEDEIROS SOARES (Antonio Soares)</td>\n",
       "      <td>Arquitetura e Urbanismo</td>\n",
       "      <td>PE</td>\n",
       "      <td>Eleito</td>\n",
       "      <td>51</td>\n",
       "    </tr>\n",
       "    <tr>\n",
       "      <th>...</th>\n",
       "      <td>...</td>\n",
       "      <td>...</td>\n",
       "      <td>...</td>\n",
       "      <td>...</td>\n",
       "      <td>...</td>\n",
       "    </tr>\n",
       "    <tr>\n",
       "      <th>1502</th>\n",
       "      <td>WECSLEY DA CUNHA NEPOMUCENO (Wecsley da Cunha ...</td>\n",
       "      <td>Teatro</td>\n",
       "      <td>RN</td>\n",
       "      <td>Habilitado</td>\n",
       "      <td>9</td>\n",
       "    </tr>\n",
       "    <tr>\n",
       "      <th>1503</th>\n",
       "      <td>WELLINGTON DA SILVA ANTONIO (WELLINGTON DA SIL...</td>\n",
       "      <td>Teatro</td>\n",
       "      <td>CE</td>\n",
       "      <td>Eleito</td>\n",
       "      <td>22</td>\n",
       "    </tr>\n",
       "    <tr>\n",
       "      <th>1504</th>\n",
       "      <td>WILISMAR ARAUJO DA SILVA (wilis araújo)</td>\n",
       "      <td>Teatro</td>\n",
       "      <td>DF</td>\n",
       "      <td>Habilitado</td>\n",
       "      <td>6</td>\n",
       "    </tr>\n",
       "    <tr>\n",
       "      <th>1505</th>\n",
       "      <td>YGOR FIORI (Ygor Fiori)</td>\n",
       "      <td>Teatro</td>\n",
       "      <td>SP</td>\n",
       "      <td>Habilitado</td>\n",
       "      <td>35</td>\n",
       "    </tr>\n",
       "    <tr>\n",
       "      <th>1506</th>\n",
       "      <td>ZEUDIMAR BARBOSA DE SOUZA (Zeudi Souza)</td>\n",
       "      <td>Teatro</td>\n",
       "      <td>AM</td>\n",
       "      <td>Habilitado</td>\n",
       "      <td>7</td>\n",
       "    </tr>\n",
       "  </tbody>\n",
       "</table>\n",
       "<p>1427 rows × 5 columns</p>\n",
       "</div>"
      ],
      "text/plain": [
       "                                              Candidato  \\\n",
       "0     ANA CAROLINA REGIS BARRA (Ana Carolina Regis B...   \n",
       "1     ANA LUCIA DE CASTRO AVILA SANTOS (Ana Lucia de...   \n",
       "2          ANA VERUSKA DE MATOS (Ana Veruska de Matos)    \n",
       "3     ANNA KARLA DE ALMEIDA SANTOS (ANNA KARLA DE AL...   \n",
       "4     ANTONIO JOSE DE MEDEIROS SOARES (Antonio Soares)    \n",
       "...                                                 ...   \n",
       "1502  WECSLEY DA CUNHA NEPOMUCENO (Wecsley da Cunha ...   \n",
       "1503  WELLINGTON DA SILVA ANTONIO (WELLINGTON DA SIL...   \n",
       "1504           WILISMAR ARAUJO DA SILVA (wilis araújo)    \n",
       "1505                           YGOR FIORI (Ygor Fiori)    \n",
       "1506           ZEUDIMAR BARBOSA DE SOUZA (Zeudi Souza)    \n",
       "\n",
       "                      Setorial Estado      Situação  Votos  \n",
       "0     Arquitetura e Urbanismo     PA        Eleito       1  \n",
       "1     Arquitetura e Urbanismo     MT   Inabilitado      66  \n",
       "2     Arquitetura e Urbanismo     MT        Eleito      10  \n",
       "3     Arquitetura e Urbanismo     MA        Eleito      28  \n",
       "4     Arquitetura e Urbanismo     PE        Eleito      51  \n",
       "...                        ...    ...           ...    ...  \n",
       "1502                   Teatro     RN    Habilitado       9  \n",
       "1503                   Teatro     CE        Eleito      22  \n",
       "1504                   Teatro     DF    Habilitado       6  \n",
       "1505                   Teatro     SP    Habilitado      35  \n",
       "1506                   Teatro     AM    Habilitado       7  \n",
       "\n",
       "[1427 rows x 5 columns]"
      ]
     },
     "execution_count": 188,
     "metadata": {},
     "output_type": "execute_result"
    }
   ],
   "source": [
    "df_votos = DF_CNPC[DF_CNPC['Votos'] > 0].copy()\n",
    "df_votos"
   ]
  },
  {
   "cell_type": "markdown",
   "metadata": {},
   "source": [
    "#### Plot do histograma logo depois de ter feito o Logaritimo na base 10 dos votos"
   ]
  },
  {
   "cell_type": "code",
   "execution_count": 214,
   "metadata": {},
   "outputs": [
    {
     "data": {
      "text/plain": [
       "<seaborn.axisgrid.FacetGrid at 0x1e121cddc40>"
      ]
     },
     "execution_count": 214,
     "metadata": {},
     "output_type": "execute_result"
    },
    {
     "data": {
      "image/png": "[encoded data removed]",
      "text/plain": [
       "<Figure size 360x360 with 1 Axes>"
      ]
     },
     "metadata": {
      "needs_background": "light"
     },
     "output_type": "display_data"
    }
   ],
   "source": [
    "df_votos['LOG Votos'] = np.log10(df_votos['Votos'])\n",
    "sns.displot(df_votos, x=\"Votos\")"
   ]
  },
  {
   "cell_type": "markdown",
   "metadata": {},
   "source": [
    "# resultado do histograma\n",
    "\n",
    "Mesmo depois de ter feito o logaritmo dos votos o histograma continua o mesmo"
   ]
  },
  {
   "cell_type": "markdown",
   "metadata": {},
   "source": [
    "## Plot em Barra da situação de votos dos candidatos"
   ]
  },
  {
   "cell_type": "code",
   "execution_count": 225,
   "metadata": {},
   "outputs": [
    {
     "data": {
      "text/plain": [
       "<seaborn.axisgrid.FacetGrid at 0x1e121d35850>"
      ]
     },
     "execution_count": 225,
     "metadata": {},
     "output_type": "execute_result"
    },
    {
     "data": {
      "image/png": "[encoded data removed]",
      "text/plain": [
       "<Figure size 360x360 with 1 Axes>"
      ]
     },
     "metadata": {
      "needs_background": "light"
     },
     "output_type": "display_data"
    }
   ],
   "source": [
    "\n",
    "sns.catplot(data=DF_CNPC,x='Situação' , y=\"Votos\",\n",
    "                kind = 'bar')\n"
   ]
  },
  {
   "cell_type": "markdown",
   "metadata": {},
   "source": [
    "### Dispersão\n",
    "\n",
    "Devido ao csv utilizado não foi possível fazer um dispersão boa, pois os 2 eixos utilizado foram da coluna 'Votos'"
   ]
  },
  {
   "cell_type": "code",
   "execution_count": 222,
   "metadata": {},
   "outputs": [
    {
     "data": {
      "text/plain": [
       "<seaborn.axisgrid.FacetGrid at 0x1e121e94fa0>"
      ]
     },
     "execution_count": 222,
     "metadata": {},
     "output_type": "execute_result"
    },
    {
     "data": {
      "image/png": "[encoded data removed]",
      "text/plain": [
       "<Figure size 451.75x360 with 1 Axes>"
      ]
     },
     "metadata": {
      "needs_background": "light"
     },
     "output_type": "display_data"
    }
   ],
   "source": [
    "sns.lmplot(data=DF_CNPC,x ='Votos',y=\"Votos\", hue = 'Situação')"
   ]
  },
  {
   "cell_type": "markdown",
   "metadata": {},
   "source": []
  }
 ],
 "metadata": {
  "kernelspec": {
   "display_name": "Python 3",
   "language": "python",
   "name": "python3"
  },
  "language_info": {
   "codemirror_mode": {
    "name": "ipython",
    "version": 3
   },
   "file_extension": ".py",
   "mimetype": "text/x-python",
   "name": "python",
   "nbconvert_exporter": "python",
   "pygments_lexer": "ipython3",
   "version": "3.8.5"
  }
 },
 "nbformat": 4,
 "nbformat_minor": 4
}
